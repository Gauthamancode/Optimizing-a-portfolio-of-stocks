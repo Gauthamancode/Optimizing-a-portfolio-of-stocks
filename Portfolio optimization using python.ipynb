{
 "cells": [
  {
   "cell_type": "markdown",
   "metadata": {},
   "source": [
    "### Description : This program attempts to optimize  users portfolio using the efficient frontier"
   ]
  },
  {
   "cell_type": "code",
   "execution_count": 1,
   "metadata": {},
   "outputs": [
    {
     "name": "stderr",
     "output_type": "stream",
     "text": [
      "C:\\Users\\JAYACHANDRAN JM\\anaconda3\\lib\\site-packages\\pandas_datareader\\compat\\__init__.py:7: FutureWarning: pandas.util.testing is deprecated. Use the functions in the public API at pandas.testing instead.\n",
      "  from pandas.util.testing import assert_frame_equal\n"
     ]
    }
   ],
   "source": [
    "# Import the python libraries \n",
    "from pandas_datareader import data as web\n",
    "import pandas as pd\n",
    "import numpy as np\n",
    "from datetime import datetime \n",
    "import matplotlib.pyplot as plt\n",
    "plt.style.use('fivethirtyeight')\n",
    "import quandl"
   ]
  },
  {
   "cell_type": "code",
   "execution_count": 2,
   "metadata": {},
   "outputs": [],
   "source": [
    "#Getting the stock symbols\n",
    "stocks  = ['NSE/SBIN','NSE/ZEEL','NSE/BAJFINANCE','NSE/TATAMOTORS','NSE/JSWSTEEL']"
   ]
  },
  {
   "cell_type": "code",
   "execution_count": 3,
   "metadata": {},
   "outputs": [],
   "source": [
    "#assign weights to the stocks\n",
    "weights = np.array([0.2,0.2,0.2,0.2,0.2])"
   ]
  },
  {
   "cell_type": "code",
   "execution_count": 4,
   "metadata": {},
   "outputs": [],
   "source": [
    "#start date\n",
    "startdate = '2011-01-01'"
   ]
  },
  {
   "cell_type": "code",
   "execution_count": 5,
   "metadata": {},
   "outputs": [
    {
     "data": {
      "text/plain": [
       "'2020-07-08'"
      ]
     },
     "execution_count": 5,
     "metadata": {},
     "output_type": "execute_result"
    }
   ],
   "source": [
    "#enddate \n",
    "enddate = datetime.today().strftime('%Y-%m-%d')\n",
    "enddate"
   ]
  },
  {
   "cell_type": "code",
   "execution_count": 6,
   "metadata": {},
   "outputs": [],
   "source": [
    "#Creating a dataframe to store the Close prices of the stocks\n",
    "df = pd.DataFrame()\n",
    "\n",
    "#Store the adjusted close pprices of the stocks into the df\n",
    "for i in stocks:\n",
    "    df[i] = web.DataReader(i,'quandl', start = startdate, end = enddate,api_key='zpDJSkRgFzuCTxiDt8xi')['Close']"
   ]
  },
  {
   "cell_type": "code",
   "execution_count": 7,
   "metadata": {},
   "outputs": [
    {
     "data": {
      "text/html": [
       "<div>\n",
       "<style scoped>\n",
       "    .dataframe tbody tr th:only-of-type {\n",
       "        vertical-align: middle;\n",
       "    }\n",
       "\n",
       "    .dataframe tbody tr th {\n",
       "        vertical-align: top;\n",
       "    }\n",
       "\n",
       "    .dataframe thead th {\n",
       "        text-align: right;\n",
       "    }\n",
       "</style>\n",
       "<table border=\"1\" class=\"dataframe\">\n",
       "  <thead>\n",
       "    <tr style=\"text-align: right;\">\n",
       "      <th></th>\n",
       "      <th>NSE/SBIN</th>\n",
       "      <th>NSE/ZEEL</th>\n",
       "      <th>NSE/BAJFINANCE</th>\n",
       "      <th>NSE/TATAMOTORS</th>\n",
       "      <th>NSE/JSWSTEEL</th>\n",
       "    </tr>\n",
       "    <tr>\n",
       "      <th>Date</th>\n",
       "      <th></th>\n",
       "      <th></th>\n",
       "      <th></th>\n",
       "      <th></th>\n",
       "      <th></th>\n",
       "    </tr>\n",
       "  </thead>\n",
       "  <tbody>\n",
       "    <tr>\n",
       "      <th>2019-01-04</th>\n",
       "      <td>297.65</td>\n",
       "      <td>463.95</td>\n",
       "      <td>2576.05</td>\n",
       "      <td>170.95</td>\n",
       "      <td>287.95</td>\n",
       "    </tr>\n",
       "    <tr>\n",
       "      <th>2019-01-03</th>\n",
       "      <td>291.10</td>\n",
       "      <td>461.45</td>\n",
       "      <td>2586.20</td>\n",
       "      <td>166.05</td>\n",
       "      <td>282.65</td>\n",
       "    </tr>\n",
       "    <tr>\n",
       "      <th>2019-01-02</th>\n",
       "      <td>293.90</td>\n",
       "      <td>470.25</td>\n",
       "      <td>2614.05</td>\n",
       "      <td>168.55</td>\n",
       "      <td>288.70</td>\n",
       "    </tr>\n",
       "    <tr>\n",
       "      <th>2019-01-01</th>\n",
       "      <td>299.60</td>\n",
       "      <td>480.25</td>\n",
       "      <td>2656.85</td>\n",
       "      <td>173.45</td>\n",
       "      <td>303.95</td>\n",
       "    </tr>\n",
       "    <tr>\n",
       "      <th>2018-12-31</th>\n",
       "      <td>295.90</td>\n",
       "      <td>476.45</td>\n",
       "      <td>2645.15</td>\n",
       "      <td>172.70</td>\n",
       "      <td>306.75</td>\n",
       "    </tr>\n",
       "    <tr>\n",
       "      <th>...</th>\n",
       "      <td>...</td>\n",
       "      <td>...</td>\n",
       "      <td>...</td>\n",
       "      <td>...</td>\n",
       "      <td>...</td>\n",
       "    </tr>\n",
       "    <tr>\n",
       "      <th>2011-01-07</th>\n",
       "      <td>2600.95</td>\n",
       "      <td>135.50</td>\n",
       "      <td>659.65</td>\n",
       "      <td>1190.20</td>\n",
       "      <td>1029.95</td>\n",
       "    </tr>\n",
       "    <tr>\n",
       "      <th>2011-01-06</th>\n",
       "      <td>2622.40</td>\n",
       "      <td>137.80</td>\n",
       "      <td>688.75</td>\n",
       "      <td>1261.00</td>\n",
       "      <td>1099.55</td>\n",
       "    </tr>\n",
       "    <tr>\n",
       "      <th>2011-01-05</th>\n",
       "      <td>2693.20</td>\n",
       "      <td>140.40</td>\n",
       "      <td>697.50</td>\n",
       "      <td>1282.80</td>\n",
       "      <td>1147.50</td>\n",
       "    </tr>\n",
       "    <tr>\n",
       "      <th>2011-01-04</th>\n",
       "      <td>2735.60</td>\n",
       "      <td>143.05</td>\n",
       "      <td>700.40</td>\n",
       "      <td>1298.40</td>\n",
       "      <td>1167.70</td>\n",
       "    </tr>\n",
       "    <tr>\n",
       "      <th>2011-01-03</th>\n",
       "      <td>2822.10</td>\n",
       "      <td>144.55</td>\n",
       "      <td>704.75</td>\n",
       "      <td>1308.45</td>\n",
       "      <td>1191.10</td>\n",
       "    </tr>\n",
       "  </tbody>\n",
       "</table>\n",
       "<p>1985 rows × 5 columns</p>\n",
       "</div>"
      ],
      "text/plain": [
       "            NSE/SBIN  NSE/ZEEL  NSE/BAJFINANCE  NSE/TATAMOTORS  NSE/JSWSTEEL\n",
       "Date                                                                        \n",
       "2019-01-04    297.65    463.95         2576.05          170.95        287.95\n",
       "2019-01-03    291.10    461.45         2586.20          166.05        282.65\n",
       "2019-01-02    293.90    470.25         2614.05          168.55        288.70\n",
       "2019-01-01    299.60    480.25         2656.85          173.45        303.95\n",
       "2018-12-31    295.90    476.45         2645.15          172.70        306.75\n",
       "...              ...       ...             ...             ...           ...\n",
       "2011-01-07   2600.95    135.50          659.65         1190.20       1029.95\n",
       "2011-01-06   2622.40    137.80          688.75         1261.00       1099.55\n",
       "2011-01-05   2693.20    140.40          697.50         1282.80       1147.50\n",
       "2011-01-04   2735.60    143.05          700.40         1298.40       1167.70\n",
       "2011-01-03   2822.10    144.55          704.75         1308.45       1191.10\n",
       "\n",
       "[1985 rows x 5 columns]"
      ]
     },
     "execution_count": 7,
     "metadata": {},
     "output_type": "execute_result"
    }
   ],
   "source": [
    "#visualizing the data\n",
    "df\n"
   ]
  },
  {
   "cell_type": "code",
   "execution_count": 8,
   "metadata": {},
   "outputs": [
    {
     "data": {
      "image/png": "[encoded data removed]",
      "text/plain": [
       "<Figure size 432x288 with 1 Axes>"
      ]
     },
     "metadata": {},
     "output_type": "display_data"
    }
   ],
   "source": [
    "#Visulaizing the stock portfolio\n",
    "\n",
    "title = 'Close price history of stocks in the portfolio'\n",
    "\n",
    "#Get the securities\n",
    "stock_portfolio = df\n",
    "\n",
    "#plot the graph\n",
    "for j in  stock_portfolio.columns.values:\n",
    "    plt.plot(stock_portfolio[j],label = j)\n",
    "\n",
    "plt.title(title)\n",
    "plt.legend(stock_portfolio.columns.values,loc = 'upper left')\n",
    "plt. xlabel('Date', fontsize = 17)\n",
    "plt.ylabel('Close price',fontsize = 17)\n",
    "plt.show()"
   ]
  },
  {
   "cell_type": "code",
   "execution_count": 9,
   "metadata": {},
   "outputs": [
    {
     "data": {
      "text/html": [
       "<div>\n",
       "<style scoped>\n",
       "    .dataframe tbody tr th:only-of-type {\n",
       "        vertical-align: middle;\n",
       "    }\n",
       "\n",
       "    .dataframe tbody tr th {\n",
       "        vertical-align: top;\n",
       "    }\n",
       "\n",
       "    .dataframe thead th {\n",
       "        text-align: right;\n",
       "    }\n",
       "</style>\n",
       "<table border=\"1\" class=\"dataframe\">\n",
       "  <thead>\n",
       "    <tr style=\"text-align: right;\">\n",
       "      <th></th>\n",
       "      <th>NSE/SBIN</th>\n",
       "      <th>NSE/ZEEL</th>\n",
       "      <th>NSE/BAJFINANCE</th>\n",
       "      <th>NSE/TATAMOTORS</th>\n",
       "      <th>NSE/JSWSTEEL</th>\n",
       "    </tr>\n",
       "    <tr>\n",
       "      <th>Date</th>\n",
       "      <th></th>\n",
       "      <th></th>\n",
       "      <th></th>\n",
       "      <th></th>\n",
       "      <th></th>\n",
       "    </tr>\n",
       "  </thead>\n",
       "  <tbody>\n",
       "    <tr>\n",
       "      <th>2019-01-03</th>\n",
       "      <td>-0.022006</td>\n",
       "      <td>-0.005389</td>\n",
       "      <td>0.003940</td>\n",
       "      <td>-0.028663</td>\n",
       "      <td>-0.018406</td>\n",
       "    </tr>\n",
       "    <tr>\n",
       "      <th>2019-01-02</th>\n",
       "      <td>0.009619</td>\n",
       "      <td>0.019070</td>\n",
       "      <td>0.010769</td>\n",
       "      <td>0.015056</td>\n",
       "      <td>0.021405</td>\n",
       "    </tr>\n",
       "    <tr>\n",
       "      <th>2019-01-01</th>\n",
       "      <td>0.019394</td>\n",
       "      <td>0.021265</td>\n",
       "      <td>0.016373</td>\n",
       "      <td>0.029071</td>\n",
       "      <td>0.052823</td>\n",
       "    </tr>\n",
       "    <tr>\n",
       "      <th>2018-12-31</th>\n",
       "      <td>-0.012350</td>\n",
       "      <td>-0.007913</td>\n",
       "      <td>-0.004404</td>\n",
       "      <td>-0.004324</td>\n",
       "      <td>0.009212</td>\n",
       "    </tr>\n",
       "    <tr>\n",
       "      <th>2018-12-28</th>\n",
       "      <td>-0.003717</td>\n",
       "      <td>-0.004198</td>\n",
       "      <td>-0.003913</td>\n",
       "      <td>-0.010712</td>\n",
       "      <td>-0.028199</td>\n",
       "    </tr>\n",
       "    <tr>\n",
       "      <th>...</th>\n",
       "      <td>...</td>\n",
       "      <td>...</td>\n",
       "      <td>...</td>\n",
       "      <td>...</td>\n",
       "      <td>...</td>\n",
       "    </tr>\n",
       "    <tr>\n",
       "      <th>2011-01-07</th>\n",
       "      <td>0.021142</td>\n",
       "      <td>0.012706</td>\n",
       "      <td>0.024619</td>\n",
       "      <td>0.011473</td>\n",
       "      <td>0.044786</td>\n",
       "    </tr>\n",
       "    <tr>\n",
       "      <th>2011-01-06</th>\n",
       "      <td>0.008247</td>\n",
       "      <td>0.016974</td>\n",
       "      <td>0.044114</td>\n",
       "      <td>0.059486</td>\n",
       "      <td>0.067576</td>\n",
       "    </tr>\n",
       "    <tr>\n",
       "      <th>2011-01-05</th>\n",
       "      <td>0.026998</td>\n",
       "      <td>0.018868</td>\n",
       "      <td>0.012704</td>\n",
       "      <td>0.017288</td>\n",
       "      <td>0.043609</td>\n",
       "    </tr>\n",
       "    <tr>\n",
       "      <th>2011-01-04</th>\n",
       "      <td>0.015743</td>\n",
       "      <td>0.018875</td>\n",
       "      <td>0.004158</td>\n",
       "      <td>0.012161</td>\n",
       "      <td>0.017603</td>\n",
       "    </tr>\n",
       "    <tr>\n",
       "      <th>2011-01-03</th>\n",
       "      <td>0.031620</td>\n",
       "      <td>0.010486</td>\n",
       "      <td>0.006211</td>\n",
       "      <td>0.007740</td>\n",
       "      <td>0.020039</td>\n",
       "    </tr>\n",
       "  </tbody>\n",
       "</table>\n",
       "<p>1984 rows × 5 columns</p>\n",
       "</div>"
      ],
      "text/plain": [
       "            NSE/SBIN  NSE/ZEEL  NSE/BAJFINANCE  NSE/TATAMOTORS  NSE/JSWSTEEL\n",
       "Date                                                                        \n",
       "2019-01-03 -0.022006 -0.005389        0.003940       -0.028663     -0.018406\n",
       "2019-01-02  0.009619  0.019070        0.010769        0.015056      0.021405\n",
       "2019-01-01  0.019394  0.021265        0.016373        0.029071      0.052823\n",
       "2018-12-31 -0.012350 -0.007913       -0.004404       -0.004324      0.009212\n",
       "2018-12-28 -0.003717 -0.004198       -0.003913       -0.010712     -0.028199\n",
       "...              ...       ...             ...             ...           ...\n",
       "2011-01-07  0.021142  0.012706        0.024619        0.011473      0.044786\n",
       "2011-01-06  0.008247  0.016974        0.044114        0.059486      0.067576\n",
       "2011-01-05  0.026998  0.018868        0.012704        0.017288      0.043609\n",
       "2011-01-04  0.015743  0.018875        0.004158        0.012161      0.017603\n",
       "2011-01-03  0.031620  0.010486        0.006211        0.007740      0.020039\n",
       "\n",
       "[1984 rows x 5 columns]"
      ]
     },
     "execution_count": 9,
     "metadata": {},
     "output_type": "execute_result"
    }
   ],
   "source": [
    "#Daily returns \n",
    "returns  = df.pct_change()[1:]\n",
    "returns"
   ]
  },
  {
   "cell_type": "code",
   "execution_count": 10,
   "metadata": {},
   "outputs": [
    {
     "data": {
      "text/html": [
       "<div>\n",
       "<style scoped>\n",
       "    .dataframe tbody tr th:only-of-type {\n",
       "        vertical-align: middle;\n",
       "    }\n",
       "\n",
       "    .dataframe tbody tr th {\n",
       "        vertical-align: top;\n",
       "    }\n",
       "\n",
       "    .dataframe thead th {\n",
       "        text-align: right;\n",
       "    }\n",
       "</style>\n",
       "<table border=\"1\" class=\"dataframe\">\n",
       "  <thead>\n",
       "    <tr style=\"text-align: right;\">\n",
       "      <th></th>\n",
       "      <th>NSE/SBIN</th>\n",
       "      <th>NSE/ZEEL</th>\n",
       "      <th>NSE/BAJFINANCE</th>\n",
       "      <th>NSE/TATAMOTORS</th>\n",
       "      <th>NSE/JSWSTEEL</th>\n",
       "    </tr>\n",
       "  </thead>\n",
       "  <tbody>\n",
       "    <tr>\n",
       "      <th>NSE/SBIN</th>\n",
       "      <td>9.934759</td>\n",
       "      <td>0.065995</td>\n",
       "      <td>-0.009035</td>\n",
       "      <td>0.079841</td>\n",
       "      <td>0.053199</td>\n",
       "    </tr>\n",
       "    <tr>\n",
       "      <th>NSE/ZEEL</th>\n",
       "      <td>0.065995</td>\n",
       "      <td>0.089896</td>\n",
       "      <td>0.015121</td>\n",
       "      <td>0.044698</td>\n",
       "      <td>0.027793</td>\n",
       "    </tr>\n",
       "    <tr>\n",
       "      <th>NSE/BAJFINANCE</th>\n",
       "      <td>-0.009035</td>\n",
       "      <td>0.015121</td>\n",
       "      <td>9.947786</td>\n",
       "      <td>0.041505</td>\n",
       "      <td>0.049250</td>\n",
       "    </tr>\n",
       "    <tr>\n",
       "      <th>NSE/TATAMOTORS</th>\n",
       "      <td>0.079841</td>\n",
       "      <td>0.044698</td>\n",
       "      <td>0.041505</td>\n",
       "      <td>2.403869</td>\n",
       "      <td>0.061974</td>\n",
       "    </tr>\n",
       "    <tr>\n",
       "      <th>NSE/JSWSTEEL</th>\n",
       "      <td>0.053199</td>\n",
       "      <td>0.027793</td>\n",
       "      <td>0.049250</td>\n",
       "      <td>0.061974</td>\n",
       "      <td>10.622413</td>\n",
       "    </tr>\n",
       "  </tbody>\n",
       "</table>\n",
       "</div>"
      ],
      "text/plain": [
       "                NSE/SBIN  NSE/ZEEL  NSE/BAJFINANCE  NSE/TATAMOTORS  \\\n",
       "NSE/SBIN        9.934759  0.065995       -0.009035        0.079841   \n",
       "NSE/ZEEL        0.065995  0.089896        0.015121        0.044698   \n",
       "NSE/BAJFINANCE -0.009035  0.015121        9.947786        0.041505   \n",
       "NSE/TATAMOTORS  0.079841  0.044698        0.041505        2.403869   \n",
       "NSE/JSWSTEEL    0.053199  0.027793        0.049250        0.061974   \n",
       "\n",
       "                NSE/JSWSTEEL  \n",
       "NSE/SBIN            0.053199  \n",
       "NSE/ZEEL            0.027793  \n",
       "NSE/BAJFINANCE      0.049250  \n",
       "NSE/TATAMOTORS      0.061974  \n",
       "NSE/JSWSTEEL       10.622413  "
      ]
     },
     "execution_count": 10,
     "metadata": {},
     "output_type": "execute_result"
    }
   ],
   "source": [
    "#Showing the annualized covariamce matrix\n",
    "Annual_cov_matrix = returns.cov()*252\n",
    "Annual_cov_matrix"
   ]
  },
  {
   "cell_type": "code",
   "execution_count": 11,
   "metadata": {},
   "outputs": [
    {
     "data": {
      "text/plain": [
       "1.3543762889018414"
      ]
     },
     "execution_count": 11,
     "metadata": {},
     "output_type": "execute_result"
    }
   ],
   "source": [
    "#Calculate the portfolio variance \n",
    "port_variance = np.dot(weights.T, np.dot(Annual_cov_matrix, weights))\n",
    "port_variance"
   ]
  },
  {
   "cell_type": "code",
   "execution_count": 12,
   "metadata": {},
   "outputs": [
    {
     "data": {
      "text/plain": [
       "1.163776734989079"
      ]
     },
     "execution_count": 12,
     "metadata": {},
     "output_type": "execute_result"
    }
   ],
   "source": [
    "#Calculating standard deviation\n",
    "import math\n",
    "portfolio_vol = math.sqrt(port_variance)\n",
    "portfolio_vol"
   ]
  },
  {
   "cell_type": "code",
   "execution_count": 13,
   "metadata": {},
   "outputs": [
    {
     "data": {
      "text/plain": [
       "0.7091016360693526"
      ]
     },
     "execution_count": 13,
     "metadata": {},
     "output_type": "execute_result"
    }
   ],
   "source": [
    "#Calculate the annual portfollio return \n",
    "portfolio_annual_ret = np.sum(returns.mean()*weights)*252\n",
    "portfolio_annual_ret"
   ]
  },
  {
   "cell_type": "code",
   "execution_count": 14,
   "metadata": {},
   "outputs": [
    {
     "name": "stdout",
     "output_type": "stream",
     "text": [
      "Variance :  135.0%\n",
      "volatility :  115.99999999999999%\n",
      "return :  71.0%\n"
     ]
    }
   ],
   "source": [
    "#predicted Annual return, volatility and variance\n",
    "\n",
    "variance_percentage = str(round(port_variance,2)*100)+'%'\n",
    "volatility_percentage = str(round(portfolio_vol,2)*100)+'%'\n",
    "percentage_return = str(round(portfolio_annual_ret,2)*100)+'%'\n",
    "\n",
    "print(\"Variance : \",variance_percentage)\n",
    "print(\"volatility : \",volatility_percentage)\n",
    "print(\"return : \",percentage_return)\n"
   ]
  },
  {
   "cell_type": "code",
   "execution_count": null,
   "metadata": {},
   "outputs": [],
   "source": [
    "pip install PyPortfolioOpt"
   ]
  },
  {
   "cell_type": "code",
   "execution_count": 16,
   "metadata": {},
   "outputs": [
    {
     "name": "stdout",
     "output_type": "stream",
     "text": [
      "Note: you may need to restart the kernel to use updated packages.\n"
     ]
    },
    {
     "name": "stderr",
     "output_type": "stream",
     "text": [
      "'C:\\Users\\JAYACHANDRAN' is not recognized as an internal or external command,\n",
      "operable program or batch file.\n"
     ]
    }
   ],
   "source": [
    "from pypfopt.efficient_frontier import EfficientFrontier\n",
    "from pypfopt import risk_models\n",
    "from pypfopt import expected_returns"
   ]
  },
  {
   "cell_type": "code",
   "execution_count": null,
   "metadata": {},
   "outputs": [],
   "source": [
    "mu = expected_returns.mean_historical_return(df)#returns.mean() * 252\n",
    "S = risk_models.sample_cov(df) #Get the sample covariance matrix"
   ]
  },
  {
   "cell_type": "code",
   "execution_count": null,
   "metadata": {},
   "outputs": [],
   "source": [
    "ef = EfficientFrontier(mu, S)\n",
    "weights = ef.max_sharpe() #Maximize the Sharpe ratio, and get the raw weights\n",
    "cleaned_weights = ef.clean_weights() \n",
    "print(cleaned_weights) # the weights may have some rounding error, meaning they may not add up exactly to 1 but should be close\n",
    "ef.portfolio_performance(verbose=True)"
   ]
  },
  {
   "cell_type": "code",
   "execution_count": null,
   "metadata": {},
   "outputs": [],
   "source": [
    "pip install pulp"
   ]
  },
  {
   "cell_type": "code",
   "execution_count": null,
   "metadata": {},
   "outputs": [],
   "source": [
    "from pypfopt.discrete_allocation import DiscreteAllocation, get_latest_prices\n",
    "latest_prices = get_latest_prices(df)\n",
    "weights = cleaned_weights \n",
    "da = DiscreteAllocation(weights, latest_prices, total_portfolio_value=15000)\n",
    "allocation, leftover = da.lp_portfolio()\n",
    "print(\"Discrete allocation:\", allocation)\n",
    "print(\"Funds remaining: ${:.2f}\".format(leftover))"
   ]
  },
  {
   "cell_type": "code",
   "execution_count": 2,
   "metadata": {},
   "outputs": [
    {
     "ename": "NameError",
     "evalue": "name 'latex' is not defined",
     "output_type": "error",
     "traceback": [
      "\u001b[1;31m---------------------------------------------------------------------------\u001b[0m",
      "\u001b[1;31mNameError\u001b[0m                                 Traceback (most recent call last)",
      "\u001b[1;32m<ipython-input-2-de36dbbfd8e5>\u001b[0m in \u001b[0;36m<module>\u001b[1;34m\u001b[0m\n\u001b[1;32m----> 1\u001b[1;33m \u001b[0mlatex\u001b[0m\u001b[1;33m\u001b[0m\u001b[1;33m\u001b[0m\u001b[0m\n\u001b[0m",
      "\u001b[1;31mNameError\u001b[0m: name 'latex' is not defined"
     ]
    }
   ],
   "source": [
    "latex"
   ]
  }
 ],
 "metadata": {
  "kernelspec": {
   "display_name": "Python 3",
   "language": "python",
   "name": "python3"
  },
  "language_info": {
   "codemirror_mode": {
    "name": "ipython",
    "version": 3
   },
   "file_extension": ".py",
   "mimetype": "text/x-python",
   "name": "python",
   "nbconvert_exporter": "python",
   "pygments_lexer": "ipython3",
   "version": "3.7.6"
  }
 },
 "nbformat": 4,
 "nbformat_minor": 4
}
